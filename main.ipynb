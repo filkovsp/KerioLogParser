{
 "cells": [
  {
   "cell_type": "code",
   "execution_count": 1,
   "metadata": {},
   "outputs": [],
   "source": [
    "%matplotlib inline\n",
    "import matplotlib.pyplot as plt\n",
    "\n",
    "from include.Connection import Connection\n",
    "from include.Tools import *\n",
    "import pandas as pd"
   ]
  },
  {
   "cell_type": "code",
   "execution_count": 2,
   "metadata": {},
   "outputs": [
    {
     "output_type": "error",
     "ename": "FileNotFoundError",
     "evalue": "[Errno 2] No such file or directory: './connection.20200507.log'",
     "traceback": [
      "\u001b[1;31m---------------------------------------------------------------------------\u001b[0m",
      "\u001b[1;31mFileNotFoundError\u001b[0m                         Traceback (most recent call last)",
      "\u001b[1;32m<ipython-input-2-6642f218020c>\u001b[0m in \u001b[0;36m<module>\u001b[1;34m\u001b[0m\n\u001b[0;32m      3\u001b[0m \u001b[0mdf\u001b[0m \u001b[1;33m=\u001b[0m \u001b[0mpd\u001b[0m\u001b[1;33m.\u001b[0m\u001b[0mDataFrame\u001b[0m\u001b[1;33m(\u001b[0m\u001b[1;33m)\u001b[0m\u001b[1;33m\u001b[0m\u001b[1;33m\u001b[0m\u001b[0m\n\u001b[0;32m      4\u001b[0m \u001b[1;33m\u001b[0m\u001b[0m\n\u001b[1;32m----> 5\u001b[1;33m \u001b[1;32mwith\u001b[0m \u001b[0mopen\u001b[0m\u001b[1;33m(\u001b[0m\u001b[0mfile\u001b[0m \u001b[1;33m=\u001b[0m \u001b[0mfilePath\u001b[0m\u001b[1;33m,\u001b[0m \u001b[0mmode\u001b[0m \u001b[1;33m=\u001b[0m \u001b[1;34m\"r\"\u001b[0m\u001b[1;33m,\u001b[0m \u001b[0mbuffering\u001b[0m \u001b[1;33m=\u001b[0m \u001b[1;36m1_000_000\u001b[0m\u001b[1;33m)\u001b[0m \u001b[1;32mas\u001b[0m \u001b[0mf\u001b[0m\u001b[1;33m:\u001b[0m\u001b[1;33m\u001b[0m\u001b[1;33m\u001b[0m\u001b[0m\n\u001b[0m\u001b[0;32m      6\u001b[0m     \u001b[1;32mfor\u001b[0m \u001b[0mline\u001b[0m \u001b[1;32min\u001b[0m \u001b[0mf\u001b[0m\u001b[1;33m:\u001b[0m\u001b[1;33m\u001b[0m\u001b[1;33m\u001b[0m\u001b[0m\n\u001b[0;32m      7\u001b[0m         \u001b[0mkeys\u001b[0m\u001b[1;33m,\u001b[0m \u001b[0mvalues\u001b[0m \u001b[1;33m=\u001b[0m \u001b[0mConnection\u001b[0m\u001b[1;33m.\u001b[0m\u001b[0mparse\u001b[0m\u001b[1;33m(\u001b[0m\u001b[0mline\u001b[0m\u001b[1;33m)\u001b[0m\u001b[1;33m\u001b[0m\u001b[1;33m\u001b[0m\u001b[0m\n",
      "\u001b[1;31mFileNotFoundError\u001b[0m: [Errno 2] No such file or directory: './connection.20200507.log'"
     ]
    }
   ],
   "source": [
    "# filePath = './connection.test.log'\n",
    "filePath = \"./logs/connection.20200507.log\"\n",
    "df = pd.DataFrame()\n",
    "        \n",
    "with open(file = filePath, mode = \"r\", buffering = 1_000_000) as f:\n",
    "    for line in f:\n",
    "        keys, values = Connection.parse(line)\n",
    "        df = df.append(pd.DataFrame(data=[values], columns=keys), ignore_index =True)\n",
    "\n",
    "df.set_index(\"ID\", inplace=True)"
   ]
  },
  {
   "cell_type": "code",
   "execution_count": null,
   "metadata": {},
   "outputs": [],
   "source": [
    "df.head(5)"
   ]
  },
  {
   "cell_type": "code",
   "execution_count": null,
   "metadata": {},
   "outputs": [],
   "source": [
    "# --- Replace unknown user name with \"NaN\" value:\n",
    "df[\"User\"] = df[\"User\"].mask(df[\"User\"] == \"\", \"NaN\")"
   ]
  },
  {
   "cell_type": "code",
   "execution_count": null,
   "metadata": {},
   "outputs": [],
   "source": [
    "users = list(df.groupby(\"User\").groups)\n",
    "\n",
    "# --- check what we've got:\n",
    "# users"
   ]
  },
  {
   "cell_type": "code",
   "execution_count": null,
   "metadata": {},
   "outputs": [],
   "source": [
    "# --- check particular user's taffic data:\n",
    "# df.loc[df[\"User\"] == \"UserName\"].head(5)"
   ]
  },
  {
   "cell_type": "code",
   "execution_count": null,
   "metadata": {},
   "outputs": [],
   "source": [
    "# collect summary data for Pie Chart:\n",
    "traffic_totals = []\n",
    "\n",
    "# --- full traffic summary\n",
    "# for user in users:\n",
    "#   traffic_totals.append(df.loc[df[\"User\"] == user].groupby([\"User\"]).agg(np.sum)[\"Bytes.Total\"].values[0])\n",
    "# traffic_summary = pd.DataFrame({\"User\": users, \"Traffic.MB\": list(map(bytes_transform, traffic_totals))})\n",
    "\n",
    "# --- traffic summary for a custom list of users only:\n",
    "for user in [user for user in users if user != \"NaN\"]:\n",
    "    traffic_totals.append(df.loc[df[\"User\"] == user].groupby([\"User\"]).agg(np.sum)[\"Bytes.Total\"].values[0])\n",
    "traffic_summary = pd.DataFrame({\"User\": [user for user in users if user != \"NaN\"], \"Traffic.MB\": list(map(bytes_transform, traffic_totals))})\n",
    "\n",
    "# --- check what we've got:\n",
    "traffic_summary"
   ]
  },
  {
   "cell_type": "code",
   "execution_count": null,
   "metadata": {},
   "outputs": [],
   "source": [
    "# --- Build a Pie Chart out of summary data:\n",
    "plt.figure(figsize=(8,5))\n",
    "plt.pie(traffic_summary[\"Traffic.MB\"], labels=traffic_summary[\"User\"], autopct=\"%.2f%%\")\n",
    "plt.show()"
   ]
  },
  {
   "cell_type": "code",
   "execution_count": null,
   "metadata": {},
   "outputs": [],
   "source": [
    "# --- prpare list of users to whom we want collect statistics for:\n",
    "reporting_users = [user for user in users if user != \"NaN\"]\n",
    "# or as an explicit list of names: reporting_users = [\"User1\", \"User2\", \"User3\"]\n",
    "\n",
    "# --- create subplots to place all graphs at the same figure:\n",
    "fig, ax = plt.subplots(nrows=len(reporting_users), ncols=1, sharex=False, sharey=False)\n",
    "fig.set_size_inches(10, 15)\n",
    "\n",
    "# --- iterate through uach reporting user and build their statistics:\n",
    "for index, user in enumerate(reporting_users): # conditional for loop : https://stackoverflow.com/questions/12986996/conditional-for-in-python\n",
    "    user_traffic_per_host  = pd.DataFrame({\n",
    "        \"DestinationHostName\": list(df.loc[df[\"User\"] == user].groupby([\"Connection.DestinationHostName\"]).groups),\n",
    "        \"MB.Total\" : list(map(bytes_transform, list(df.loc[df[\"User\"] == user].groupby([\"Connection.DestinationHostName\"]).agg(np.sum)[\"Bytes.Total\"])))\n",
    "    })\n",
    "    user_traffic_per_host.sort_values(by=\"MB.Total\", ascending=True).tail(10).set_index(\"DestinationHostName\").plot(kind=\"barh\", ax=ax[index])\n",
    "    ax[index].title.set_text(\"{0}'s traffic: \".format(user))\n",
    "\n",
    "plt.show()"
   ]
  }
 ],
 "metadata": {
  "language_info": {
   "codemirror_mode": {
    "name": "ipython",
    "version": 3
   },
   "file_extension": ".py",
   "mimetype": "text/x-python",
   "name": "python",
   "nbconvert_exporter": "python",
   "pygments_lexer": "ipython3",
   "version": "3.7.2-final"
  },
  "orig_nbformat": 2,
  "kernelspec": {
   "name": "python37264bit3b1fe9ad0e764565b4b9e70065a60dbe",
   "display_name": "Python 3.7.2 64-bit"
  }
 },
 "nbformat": 4,
 "nbformat_minor": 2
}